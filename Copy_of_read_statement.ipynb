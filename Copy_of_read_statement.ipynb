{
  "nbformat": 4,
  "nbformat_minor": 0,
  "metadata": {
    "colab": {
      "name": "Copy of read_statement.ipynb",
      "provenance": [],
      "collapsed_sections": [],
      "authorship_tag": "ABX9TyOyHT7yZEuTPd7XuiFlCpau",
      "include_colab_link": true
    },
    "kernelspec": {
      "name": "python3",
      "display_name": "Python 3"
    }
  },
  "cells": [
    {
      "cell_type": "markdown",
      "metadata": {
        "id": "view-in-github",
        "colab_type": "text"
      },
      "source": [
        "<a href=\"https://colab.research.google.com/github/Ellena-F/Expense-tracker-and-bank-statement-reader/blob/master/Copy_of_read_statement.ipynb\" target=\"_parent\"><img src=\"https://colab.research.google.com/assets/colab-badge.svg\" alt=\"Open In Colab\"/></a>"
      ]
    },
    {
      "cell_type": "code",
      "metadata": {
        "id": "WU2Sirxwebdl",
        "colab_type": "code",
        "colab": {}
      },
      "source": [
        "# install package\n",
        "!pip install pdfminer\n",
        "!pip install PyPDF2\n",
        "!pip install tabula-py"
      ],
      "execution_count": 0,
      "outputs": []
    },
    {
      "cell_type": "code",
      "metadata": {
        "id": "urE43QcYdnWI",
        "colab_type": "code",
        "colab": {}
      },
      "source": [
        "# import package\n",
        "import pandas as pd\n",
        "import numpy as np\n",
        "import re \n",
        "import nltk\n",
        "from nltk.collocations import *\n",
        "from nltk.stem import *\n",
        "from nltk.stem.porter import *\n",
        "import seaborn as sns #basic charts\n",
        "import matplotlib.pyplot as plt #plot setup\n",
        "from wordcloud import WordCloud #word cloud\n",
        "from pdfminer.converter import TextConverter\n",
        "from pdfminer.pdfinterp import PDFPageInterpreter\n",
        "from pdfminer.pdfinterp import PDFResourceManager\n",
        "from pdfminer.pdfpage import PDFPage\n",
        "import io\n",
        "import os\n",
        "from PyPDF2 import PdfFileReader, PdfFileWriter\n",
        "import tabula\n"
      ],
      "execution_count": 0,
      "outputs": []
    },
    {
      "cell_type": "code",
      "metadata": {
        "id": "MaM7Itshg59O",
        "colab_type": "code",
        "colab": {}
      },
      "source": [
        "# Load the Drive helper and mount\n",
        "from google.colab import drive\n",
        "\n",
        "# This will prompt for authorization.\n",
        "drive.mount('/content/drive')\n",
        "\n",
        "!ls \"/content/drive/My Drive\""
      ],
      "execution_count": 0,
      "outputs": []
    },
    {
      "cell_type": "markdown",
      "metadata": {
        "id": "W1FQDJU9iG7f",
        "colab_type": "text"
      },
      "source": [
        "Tokenization\n"
      ]
    },
    {
      "cell_type": "code",
      "metadata": {
        "id": "jiKgdZpvlIUV",
        "colab_type": "code",
        "colab": {}
      },
      "source": [
        "#set filepath\n",
        "filepath4='/content/drive/My Drive/BankStatement/April.pdf'"
      ],
      "execution_count": 0,
      "outputs": []
    },
    {
      "cell_type": "code",
      "metadata": {
        "id": "VAEMz-ZGblAB",
        "colab_type": "code",
        "outputId": "4c7828a2-4392-40a6-c386-8ce181d121d6",
        "colab": {
          "base_uri": "https://localhost:8080/",
          "height": 34
        }
      },
      "source": [
        "#calculate page number for pdf file \n",
        "reader = PdfFileReader(open(filepath4, mode='rb' ))\n",
        "n = reader.getNumPages() \n"
      ],
      "execution_count": 0,
      "outputs": [
        {
          "output_type": "execute_result",
          "data": {
            "text/plain": [
              "10"
            ]
          },
          "metadata": {
            "tags": []
          },
          "execution_count": 7
        }
      ]
    },
    {
      "cell_type": "code",
      "metadata": {
        "id": "M1keob2cbAi6",
        "colab_type": "code",
        "colab": {}
      },
      "source": [
        "#read pdf file into df\n",
        "rows4 = tabula.read_pdf(filepath4,\n",
        "                       pages=(\"2-\"+str(n)),\n",
        "                       stream=True\n",
        "                      #  ,encoding = 'ISO-8859-1'\n",
        "                      ,columns=[36.95,92.72,303.9,408.44,515.88]\n",
        "                       ,area=(180.61,36.95,749.29,574.99)\n",
        "                       ,multiple_tables=True\n",
        "                      #  silent=True\n",
        "                      # #  pandas_options={\n",
        "                      # #      'header': None}\n",
        "                       )\n"
      ],
      "execution_count": 0,
      "outputs": []
    },
    {
      "cell_type": "code",
      "metadata": {
        "id": "GVB7uYkJMBna",
        "colab_type": "code",
        "colab": {}
      },
      "source": [
        "#drop column if na>0.05 of the number of rows\n",
        "#reassign column name\n",
        "for i in range(len(rows4)-1):\n",
        "  rows4[i]=rows4[i].dropna(axis='columns',thresh=rows4[i].shape[0]*0.05,how='all')\n",
        "  rows4[i].columns=['Date',\t'Transaction Details',\t'Debits/Withdrawals',\t'Credits/Deposits',\t'Balance']"
      ],
      "execution_count": 0,
      "outputs": []
    },
    {
      "cell_type": "code",
      "metadata": {
        "id": "AtGMSziIhwCu",
        "colab_type": "code",
        "colab": {}
      },
      "source": [
        "#concatenate different page of pdf into 1 df\n",
        "tryframe22=[]\n",
        "for i in range(len(rows4)-1):\n",
        "  tryframe22+=[rows4[i]]\n",
        "\n",
        "trydf22=pd.concat(tryframe22)\n",
        "trydf22\n"
      ],
      "execution_count": 0,
      "outputs": []
    },
    {
      "cell_type": "code",
      "metadata": {
        "id": "7q_Yc25GKhS3",
        "colab_type": "code",
        "colab": {}
      },
      "source": [
        "trydf22=trydf22.reset_index(drop=True)\n",
        "\n",
        "for i in range(1,len(trydf22)):\n",
        "\n",
        "  if pd.isnull(trydf22['Debits/Withdrawals'][i])==True and pd.isnull(trydf22['Credits/Deposits'][i])==True:\n",
        "    m=i-1\n",
        "    trydf22['Transaction Details'][m]=trydf22['Transaction Details'][m]+' '+trydf22['Transaction Details'][i]\n"
      ],
      "execution_count": 0,
      "outputs": []
    },
    {
      "cell_type": "code",
      "metadata": {
        "id": "9M1cV5kRiYHD",
        "colab_type": "code",
        "colab": {}
      },
      "source": [
        "#drop rows if both debit and credit amount are null\n",
        "trydf22=trydf22.dropna(subset=['Debits/Withdrawals','Credits/Deposits'], how='all')\n"
      ],
      "execution_count": 0,
      "outputs": []
    },
    {
      "cell_type": "code",
      "metadata": {
        "id": "svukXNk1nBNL",
        "colab_type": "code",
        "colab": {}
      },
      "source": [
        "#fill null value to 0 \n",
        "trydf22=trydf22.fillna(0)\n",
        "trydf22"
      ],
      "execution_count": 0,
      "outputs": []
    },
    {
      "cell_type": "code",
      "metadata": {
        "id": "UVVrqhEK9Lus",
        "colab_type": "code",
        "colab": {}
      },
      "source": [
        "#define function to check unnecessary information\n",
        "def check_tran (text):\n",
        "  if text in ['Transaction Total','Transaction Number']:\n",
        "    return 1\n",
        "  else:\n",
        "    return 0 "
      ],
      "execution_count": 0,
      "outputs": []
    },
    {
      "cell_type": "code",
      "metadata": {
        "id": "Il2Jn03w-WLc",
        "colab_type": "code",
        "colab": {}
      },
      "source": [
        "trydf22['filter'] = trydf22['Transaction Details'].apply(check_tran)\n",
        "trydf22"
      ],
      "execution_count": 0,
      "outputs": []
    },
    {
      "cell_type": "code",
      "metadata": {
        "id": "W02dJpqv-ge6",
        "colab_type": "code",
        "colab": {}
      },
      "source": [
        "trydf22=trydf22[trydf22['filter'] == 0]\n",
        "trydf22=trydf22.reset_index(drop=True)\n",
        "trydf22.tail()"
      ],
      "execution_count": 0,
      "outputs": []
    },
    {
      "cell_type": "code",
      "metadata": {
        "id": "kwwJCaWpHoaV",
        "colab_type": "code",
        "colab": {}
      },
      "source": [
        "#remove , from numeric value on debit column\n",
        "#convert debit column value to float\n",
        "for i in range(len(trydf22)-1):\n",
        "  if type(trydf22.loc[i,'Debits/Withdrawals'])==str:\n",
        "    trydf22.loc[i,'Debits/Withdrawals']=float(trydf22.loc[i,'Debits/Withdrawals'].replace(',', ''))\n",
        "  else:\n",
        "    pass"
      ],
      "execution_count": 0,
      "outputs": []
    },
    {
      "cell_type": "code",
      "metadata": {
        "id": "atHJq5oPJcPd",
        "colab_type": "code",
        "colab": {}
      },
      "source": [
        "#remove , from numeric value on credit column\n",
        "#convert credit column value to float\n",
        "for i in range(len(trydf22)-1):\n",
        "  if type(trydf22.loc[i,'Credits/Deposits'])==str:\n",
        "   trydf22.loc[i,'Credits/Deposits']=float(trydf22.loc[i,'Credits/Deposits'].replace(',', ''))\n",
        "  else:\n",
        "    pass"
      ],
      "execution_count": 0,
      "outputs": []
    },
    {
      "cell_type": "code",
      "metadata": {
        "id": "IFWQJkd1JgsM",
        "colab_type": "code",
        "colab": {}
      },
      "source": [
        "#remove , from numeric value on balance column\n",
        "#convert credit balance value to float\n",
        "for i in range(len(trydf22)-1):\n",
        "  if type(trydf22.loc[i,'Balance'])==str:\n",
        "    ba=float(trydf22.loc[i,'Balance'].replace(',', ''))\n",
        "    trydf22.loc[i,'Balance']=ba\n",
        "\n",
        "  else:\n",
        "    pass"
      ],
      "execution_count": 0,
      "outputs": []
    },
    {
      "cell_type": "code",
      "metadata": {
        "id": "ebgxMy3fvpgV",
        "colab_type": "code",
        "colab": {}
      },
      "source": [
        "#remove row if debits value is not numeric\n",
        "\n",
        "trydf22=trydf22[trydf22['Debits/Withdrawals'].apply(lambda x: type(x) in [int, np.int64, float, np.float64])]\n"
      ],
      "execution_count": 0,
      "outputs": []
    },
    {
      "cell_type": "code",
      "metadata": {
        "id": "kaLRazspH0SE",
        "colab_type": "code",
        "colab": {}
      },
      "source": [
        "#reset index\n",
        "trydf22=trydf22.reset_index(drop=True)\n",
        "trydf22"
      ],
      "execution_count": 0,
      "outputs": []
    },
    {
      "cell_type": "markdown",
      "metadata": {
        "id": "wGyB8QvQv7O4",
        "colab_type": "text"
      },
      "source": [
        "#Categorise transactions"
      ]
    },
    {
      "cell_type": "code",
      "metadata": {
        "id": "erqp1Wr1wKCu",
        "colab_type": "code",
        "colab": {}
      },
      "source": [
        "#Main categories and keyword for transaction\n",
        "deb_keyword=['TRANSFER',  'AIRBNB','COLES','WOOLWORTHS','CHEMIST WAREHOUSE']\n",
        "###add more keyword for your own trasaction\n",
        "\n",
        "\n",
        "deb_cat={'Transfer': ['TRANSFER'], 'Travelling': ['AIRBNB'], \n",
        "         'Grocery':['COLES','WOOLWORTHS','CHEMIST WAREHOUSE']}\n",
        "###add more category for your own transacion\n",
        "cre_keyword=['TRANSFER']\n",
        "cre_cat={'Transfer': ['TRANSFER']}"
      ],
      "execution_count": 0,
      "outputs": []
    },
    {
      "cell_type": "code",
      "metadata": {
        "id": "M5ZNQON4wMbI",
        "colab_type": "code",
        "colab": {}
      },
      "source": [
        "#add column for category and keyword\n",
        "trydf22['keyword']='unknown'\n",
        "trydf22['Category']='unknown'\n",
        "trydf22"
      ],
      "execution_count": 0,
      "outputs": []
    },
    {
      "cell_type": "code",
      "metadata": {
        "id": "FRJReySpwRo4",
        "colab_type": "code",
        "colab": {}
      },
      "source": [
        "#Assign key word for debit record\n",
        "for word in deb_keyword:\n",
        "  for i in range(len(trydf22)-1):\n",
        "    if trydf22.loc[i]['Debits/Withdrawals']>0:\n",
        "      if word in trydf22['Transaction Details'][i].upper():\n",
        "        trydf22['keyword'][i]=word\n",
        "      else:\n",
        "        pass\n",
        "\n"
      ],
      "execution_count": 0,
      "outputs": []
    },
    {
      "cell_type": "code",
      "metadata": {
        "id": "5fTbTgJbzSu1",
        "colab_type": "code",
        "colab": {}
      },
      "source": [
        "#Assign key work for credit record\n",
        "for word in cre_keyword:\n",
        "  for i in range(len(trydf22)-1):\n",
        "    if trydf22.loc[i]['Credits/Deposits']>0:\n",
        "      if word in trydf22['Transaction Details'][i].upper():\n",
        "        trydf22['keyword'][i]=word\n",
        "      else:\n",
        "        pass\n",
        "\n",
        "trydf22.head()"
      ],
      "execution_count": 0,
      "outputs": []
    },
    {
      "cell_type": "markdown",
      "metadata": {
        "id": "K2VpIaJQ02rZ",
        "colab_type": "text"
      },
      "source": [
        "Assign category"
      ]
    },
    {
      "cell_type": "code",
      "metadata": {
        "id": "ClkyZeMC04f6",
        "colab_type": "code",
        "colab": {}
      },
      "source": [
        "\n",
        "for i in range(len(trydf22)-1):\n",
        "    if trydf22.loc[i]['Credits/Deposits']>0:\n",
        "\n",
        "      for key in cre_cat.keys():\n",
        "        for value in cre_cat[key]:\n",
        "          if value in trydf22.loc[i]['keyword']:\n",
        "            trydf22['Category'][i]=key\n",
        "trydf22.tail()"
      ],
      "execution_count": 0,
      "outputs": []
    },
    {
      "cell_type": "code",
      "metadata": {
        "id": "_Yilel7J3sBl",
        "colab_type": "code",
        "colab": {}
      },
      "source": [
        "for i in range(len(trydf22)-1):\n",
        "    if trydf22.loc[i]['Debits/Withdrawals']>0:\n",
        "\n",
        "      for key in deb_cat.keys():\n",
        "        for value in deb_cat[key]:\n",
        "          if value in trydf22.loc[i]['keyword']:\n",
        "            trydf22['Category'][i]=key\n",
        "trydf22.tail()"
      ],
      "execution_count": 0,
      "outputs": []
    },
    {
      "cell_type": "code",
      "metadata": {
        "id": "FG4437I-7yvN",
        "colab_type": "code",
        "colab": {}
      },
      "source": [
        "#assign empty date value to last record date\n",
        "trydf22['Date']=trydf22['Date'].replace(0, np.nan).ffill()\n",
        "trydf22.head()\n"
      ],
      "execution_count": 0,
      "outputs": []
    },
    {
      "cell_type": "code",
      "metadata": {
        "id": "MGwCD7v68I_W",
        "colab_type": "code",
        "colab": {}
      },
      "source": [
        "#output file\n",
        "# trytrydf.tail()\n",
        "trydf22.to_csv('finalApril_Statement.csv')\n",
        "# !cp data.csv \"drive/My Drive/\"\n",
        "!cp finalApril_Statement.csv \"/content/drive/My Drive\""
      ],
      "execution_count": 0,
      "outputs": []
    }
  ]
}